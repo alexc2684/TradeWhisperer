{
 "cells": [
  {
   "cell_type": "code",
   "execution_count": 11,
   "metadata": {
    "collapsed": false
   },
   "outputs": [],
   "source": [
    "import os\n",
    "import numpy as np\n",
    "import pandas as pd\n",
    "import tensorflow as tf \n",
    "import tensorflow_hub as hub\n",
    "\n",
    "from keras.layers import Input, Dense, Lambda, Dropout, BatchNormalization\n",
    "from keras.regularizers import l2\n",
    "from keras.models import Model\n",
    "from keras import backend as K\n",
    "from keras.callbacks import EarlyStopping, ModelCheckpoint, TensorBoard"
   ]
  },
  {
   "cell_type": "code",
   "execution_count": 12,
   "metadata": {
    "collapsed": false
   },
   "outputs": [],
   "source": [
    "from model import USEClassifier"
   ]
  },
  {
   "cell_type": "code",
   "execution_count": 13,
   "metadata": {
    "collapsed": false
   },
   "outputs": [
    {
     "name": "stdout",
     "output_type": "stream",
     "text": [
      "DEBUG:tensorflow:Initialize variable module_1/Embeddings_en/sharded_0:0 from checkpoint b'/var/folders/rh/hnmbdhn55f7833nysls18h4c0000gn/T/tfhub_modules/1fb57c3ffe1a38479233ee9853ddd7a8ac8a8c47/variables/variables' with Embeddings_en/sharded_0\n",
      "DEBUG:tensorflow:Initialize variable module_1/Embeddings_en/sharded_1:0 from checkpoint b'/var/folders/rh/hnmbdhn55f7833nysls18h4c0000gn/T/tfhub_modules/1fb57c3ffe1a38479233ee9853ddd7a8ac8a8c47/variables/variables' with Embeddings_en/sharded_1\n",
      "DEBUG:tensorflow:Initialize variable module_1/Embeddings_en/sharded_10:0 from checkpoint b'/var/folders/rh/hnmbdhn55f7833nysls18h4c0000gn/T/tfhub_modules/1fb57c3ffe1a38479233ee9853ddd7a8ac8a8c47/variables/variables' with Embeddings_en/sharded_10\n",
      "DEBUG:tensorflow:Initialize variable module_1/Embeddings_en/sharded_11:0 from checkpoint b'/var/folders/rh/hnmbdhn55f7833nysls18h4c0000gn/T/tfhub_modules/1fb57c3ffe1a38479233ee9853ddd7a8ac8a8c47/variables/variables' with Embeddings_en/sharded_11\n",
      "DEBUG:tensorflow:Initialize variable module_1/Embeddings_en/sharded_12:0 from checkpoint b'/var/folders/rh/hnmbdhn55f7833nysls18h4c0000gn/T/tfhub_modules/1fb57c3ffe1a38479233ee9853ddd7a8ac8a8c47/variables/variables' with Embeddings_en/sharded_12\n",
      "DEBUG:tensorflow:Initialize variable module_1/Embeddings_en/sharded_13:0 from checkpoint b'/var/folders/rh/hnmbdhn55f7833nysls18h4c0000gn/T/tfhub_modules/1fb57c3ffe1a38479233ee9853ddd7a8ac8a8c47/variables/variables' with Embeddings_en/sharded_13\n",
      "DEBUG:tensorflow:Initialize variable module_1/Embeddings_en/sharded_14:0 from checkpoint b'/var/folders/rh/hnmbdhn55f7833nysls18h4c0000gn/T/tfhub_modules/1fb57c3ffe1a38479233ee9853ddd7a8ac8a8c47/variables/variables' with Embeddings_en/sharded_14\n",
      "DEBUG:tensorflow:Initialize variable module_1/Embeddings_en/sharded_15:0 from checkpoint b'/var/folders/rh/hnmbdhn55f7833nysls18h4c0000gn/T/tfhub_modules/1fb57c3ffe1a38479233ee9853ddd7a8ac8a8c47/variables/variables' with Embeddings_en/sharded_15\n",
      "DEBUG:tensorflow:Initialize variable module_1/Embeddings_en/sharded_16:0 from checkpoint b'/var/folders/rh/hnmbdhn55f7833nysls18h4c0000gn/T/tfhub_modules/1fb57c3ffe1a38479233ee9853ddd7a8ac8a8c47/variables/variables' with Embeddings_en/sharded_16\n",
      "DEBUG:tensorflow:Initialize variable module_1/Embeddings_en/sharded_2:0 from checkpoint b'/var/folders/rh/hnmbdhn55f7833nysls18h4c0000gn/T/tfhub_modules/1fb57c3ffe1a38479233ee9853ddd7a8ac8a8c47/variables/variables' with Embeddings_en/sharded_2\n",
      "DEBUG:tensorflow:Initialize variable module_1/Embeddings_en/sharded_3:0 from checkpoint b'/var/folders/rh/hnmbdhn55f7833nysls18h4c0000gn/T/tfhub_modules/1fb57c3ffe1a38479233ee9853ddd7a8ac8a8c47/variables/variables' with Embeddings_en/sharded_3\n",
      "DEBUG:tensorflow:Initialize variable module_1/Embeddings_en/sharded_4:0 from checkpoint b'/var/folders/rh/hnmbdhn55f7833nysls18h4c0000gn/T/tfhub_modules/1fb57c3ffe1a38479233ee9853ddd7a8ac8a8c47/variables/variables' with Embeddings_en/sharded_4\n",
      "DEBUG:tensorflow:Initialize variable module_1/Embeddings_en/sharded_5:0 from checkpoint b'/var/folders/rh/hnmbdhn55f7833nysls18h4c0000gn/T/tfhub_modules/1fb57c3ffe1a38479233ee9853ddd7a8ac8a8c47/variables/variables' with Embeddings_en/sharded_5\n",
      "DEBUG:tensorflow:Initialize variable module_1/Embeddings_en/sharded_6:0 from checkpoint b'/var/folders/rh/hnmbdhn55f7833nysls18h4c0000gn/T/tfhub_modules/1fb57c3ffe1a38479233ee9853ddd7a8ac8a8c47/variables/variables' with Embeddings_en/sharded_6\n",
      "DEBUG:tensorflow:Initialize variable module_1/Embeddings_en/sharded_7:0 from checkpoint b'/var/folders/rh/hnmbdhn55f7833nysls18h4c0000gn/T/tfhub_modules/1fb57c3ffe1a38479233ee9853ddd7a8ac8a8c47/variables/variables' with Embeddings_en/sharded_7\n",
      "DEBUG:tensorflow:Initialize variable module_1/Embeddings_en/sharded_8:0 from checkpoint b'/var/folders/rh/hnmbdhn55f7833nysls18h4c0000gn/T/tfhub_modules/1fb57c3ffe1a38479233ee9853ddd7a8ac8a8c47/variables/variables' with Embeddings_en/sharded_8\n",
      "DEBUG:tensorflow:Initialize variable module_1/Embeddings_en/sharded_9:0 from checkpoint b'/var/folders/rh/hnmbdhn55f7833nysls18h4c0000gn/T/tfhub_modules/1fb57c3ffe1a38479233ee9853ddd7a8ac8a8c47/variables/variables' with Embeddings_en/sharded_9\n",
      "DEBUG:tensorflow:Initialize variable module_1/Encoder_en/DNN/ResidualHidden_0/weights:0 from checkpoint b'/var/folders/rh/hnmbdhn55f7833nysls18h4c0000gn/T/tfhub_modules/1fb57c3ffe1a38479233ee9853ddd7a8ac8a8c47/variables/variables' with Encoder_en/DNN/ResidualHidden_0/weights\n",
      "DEBUG:tensorflow:Initialize variable module_1/Encoder_en/DNN/ResidualHidden_1/weights:0 from checkpoint b'/var/folders/rh/hnmbdhn55f7833nysls18h4c0000gn/T/tfhub_modules/1fb57c3ffe1a38479233ee9853ddd7a8ac8a8c47/variables/variables' with Encoder_en/DNN/ResidualHidden_1/weights\n",
      "DEBUG:tensorflow:Initialize variable module_1/Encoder_en/DNN/ResidualHidden_2/weights:0 from checkpoint b'/var/folders/rh/hnmbdhn55f7833nysls18h4c0000gn/T/tfhub_modules/1fb57c3ffe1a38479233ee9853ddd7a8ac8a8c47/variables/variables' with Encoder_en/DNN/ResidualHidden_2/weights\n",
      "DEBUG:tensorflow:Initialize variable module_1/Encoder_en/DNN/ResidualHidden_3/projection:0 from checkpoint b'/var/folders/rh/hnmbdhn55f7833nysls18h4c0000gn/T/tfhub_modules/1fb57c3ffe1a38479233ee9853ddd7a8ac8a8c47/variables/variables' with Encoder_en/DNN/ResidualHidden_3/projection\n",
      "DEBUG:tensorflow:Initialize variable module_1/Encoder_en/DNN/ResidualHidden_3/weights:0 from checkpoint b'/var/folders/rh/hnmbdhn55f7833nysls18h4c0000gn/T/tfhub_modules/1fb57c3ffe1a38479233ee9853ddd7a8ac8a8c47/variables/variables' with Encoder_en/DNN/ResidualHidden_3/weights\n",
      "DEBUG:tensorflow:Initialize variable module_1/SHARED_RANK_ANSWER/response_encoder_0/tanh_layer_0/bias:0 from checkpoint b'/var/folders/rh/hnmbdhn55f7833nysls18h4c0000gn/T/tfhub_modules/1fb57c3ffe1a38479233ee9853ddd7a8ac8a8c47/variables/variables' with SHARED_RANK_ANSWER/response_encoder_0/tanh_layer_0/bias\n",
      "DEBUG:tensorflow:Initialize variable module_1/SHARED_RANK_ANSWER/response_encoder_0/tanh_layer_0/weights:0 from checkpoint b'/var/folders/rh/hnmbdhn55f7833nysls18h4c0000gn/T/tfhub_modules/1fb57c3ffe1a38479233ee9853ddd7a8ac8a8c47/variables/variables' with SHARED_RANK_ANSWER/response_encoder_0/tanh_layer_0/weights\n",
      "DEBUG:tensorflow:Initialize variable module_1/SHARED_RANK_ANSWER/response_encoder_0/tanh_layer_1/bias:0 from checkpoint b'/var/folders/rh/hnmbdhn55f7833nysls18h4c0000gn/T/tfhub_modules/1fb57c3ffe1a38479233ee9853ddd7a8ac8a8c47/variables/variables' with SHARED_RANK_ANSWER/response_encoder_0/tanh_layer_1/bias\n",
      "DEBUG:tensorflow:Initialize variable module_1/SHARED_RANK_ANSWER/response_encoder_0/tanh_layer_1/weights:0 from checkpoint b'/var/folders/rh/hnmbdhn55f7833nysls18h4c0000gn/T/tfhub_modules/1fb57c3ffe1a38479233ee9853ddd7a8ac8a8c47/variables/variables' with SHARED_RANK_ANSWER/response_encoder_0/tanh_layer_1/weights\n",
      "DEBUG:tensorflow:Initialize variable module_1/SHARED_RANK_ANSWER/response_encoder_0/tanh_layer_2/bias:0 from checkpoint b'/var/folders/rh/hnmbdhn55f7833nysls18h4c0000gn/T/tfhub_modules/1fb57c3ffe1a38479233ee9853ddd7a8ac8a8c47/variables/variables' with SHARED_RANK_ANSWER/response_encoder_0/tanh_layer_2/bias\n",
      "DEBUG:tensorflow:Initialize variable module_1/SHARED_RANK_ANSWER/response_encoder_0/tanh_layer_2/weights:0 from checkpoint b'/var/folders/rh/hnmbdhn55f7833nysls18h4c0000gn/T/tfhub_modules/1fb57c3ffe1a38479233ee9853ddd7a8ac8a8c47/variables/variables' with SHARED_RANK_ANSWER/response_encoder_0/tanh_layer_2/weights\n",
      "DEBUG:tensorflow:Initialize variable module_1/SNLI/Classifier/LinearLayer/bias:0 from checkpoint b'/var/folders/rh/hnmbdhn55f7833nysls18h4c0000gn/T/tfhub_modules/1fb57c3ffe1a38479233ee9853ddd7a8ac8a8c47/variables/variables' with SNLI/Classifier/LinearLayer/bias\n",
      "DEBUG:tensorflow:Initialize variable module_1/SNLI/Classifier/LinearLayer/weights:0 from checkpoint b'/var/folders/rh/hnmbdhn55f7833nysls18h4c0000gn/T/tfhub_modules/1fb57c3ffe1a38479233ee9853ddd7a8ac8a8c47/variables/variables' with SNLI/Classifier/LinearLayer/weights\n",
      "DEBUG:tensorflow:Initialize variable module_1/SNLI/Classifier/tanh_layer_0/bias:0 from checkpoint b'/var/folders/rh/hnmbdhn55f7833nysls18h4c0000gn/T/tfhub_modules/1fb57c3ffe1a38479233ee9853ddd7a8ac8a8c47/variables/variables' with SNLI/Classifier/tanh_layer_0/bias\n",
      "DEBUG:tensorflow:Initialize variable module_1/SNLI/Classifier/tanh_layer_0/weights:0 from checkpoint b'/var/folders/rh/hnmbdhn55f7833nysls18h4c0000gn/T/tfhub_modules/1fb57c3ffe1a38479233ee9853ddd7a8ac8a8c47/variables/variables' with SNLI/Classifier/tanh_layer_0/weights\n",
      "DEBUG:tensorflow:Initialize variable module_1/global_step:0 from checkpoint b'/var/folders/rh/hnmbdhn55f7833nysls18h4c0000gn/T/tfhub_modules/1fb57c3ffe1a38479233ee9853ddd7a8ac8a8c47/variables/variables' with global_step\n"
     ]
    }
   ],
   "source": [
    "# module_url = \"https://tfhub.dev/google/universal-sentence-encoder-lite/2\"\n",
    "module_url = \"https://tfhub.dev/google/universal-sentence-encoder/2\"\n",
    "#module_url = \"https://tfhub.dev/google/universal-sentence-encoder-large/3\"\n",
    "embed = hub.Module(module_url)"
   ]
  },
  {
   "cell_type": "code",
   "execution_count": null,
   "metadata": {
    "collapsed": true
   },
   "outputs": [],
   "source": [
    "messages = ['Indicies dipping, big names show an  bottom, see if they break or hold these lows #amzn #aapl #ba', 'Increased our stake in #aapl by 5%. Love the foldable idea, but don’t think people will pay $2,000 to be the first guinea pigs. #samsung #foldable']"
   ]
  },
  {
   "cell_type": "code",
   "execution_count": null,
   "metadata": {
    "collapsed": false
   },
   "outputs": [],
   "source": [
    "with tf.Session() as session:\n",
    "    session.run([tf.global_variables_initializer(), tf.tables_initializer()])\n",
    "    message_embeddings = session.run(embed(messages))\n",
    "\n",
    "    for i, message_embedding in enumerate(np.array(message_embeddings).tolist()):\n",
    "        print(\"Message: {}\".format(messages[i]))\n",
    "        print(\"Embedding size: {}\".format(len(message_embedding)))\n",
    "        message_embedding_snippet = \", \".join(\n",
    "            (str(x) for x in message_embedding))\n",
    "        print(\"Embedding: [{}]\\n\".format(message_embedding_snippet))"
   ]
  },
  {
   "cell_type": "code",
   "execution_count": null,
   "metadata": {
    "collapsed": true
   },
   "outputs": [],
   "source": [
    "def UniversalEmbedding(x):\n",
    "    return embed(tf.squeeze(tf.cast(x, tf.string)), \n",
    "    \tsignature=\"default\", as_dict=True)[\"default\"]"
   ]
  },
  {
   "cell_type": "code",
   "execution_count": null,
   "metadata": {
    "collapsed": true
   },
   "outputs": [],
   "source": [
    "class USEClassifier:\n",
    "    \n",
    "    def __init__(self):\n",
    "        self.embed_size = 512\n",
    "        self.model = self.init_model()\n",
    "        self.model_name = 'test'\n",
    "        self.batch_size = 4\n",
    "        \n",
    "    def init_model(self):\n",
    "        input_text = Input(shape=(1,), dtype=tf.string)\n",
    "        embedding = Lambda(self._UniversalEmbedding, output_shape=(self.embed_size,))(input_text)\n",
    "        dense = Dense(256, activation='relu', kernel_regularizer=l2(.01))(embedding)\n",
    "        dropout = Dropout(.2)(dense)\n",
    "        pred = Dense(3, activation='softmax', kernel_regularizer=l2(.005))(dropout)\n",
    "        model = Model(inputs=[input_text], outputs=pred)\n",
    "        model.compile(loss='categorical_crossentropy', optimizer='adam', metrics=['mse', 'acc'])\n",
    "        model.summary()\n",
    "        return model\n",
    "    \n",
    "    def train(self, train_X, train_y, test_X, test_y):\n",
    "        callbacks = [EarlyStopping(monitor='val_loss', patience=2),\n",
    "                TensorBoard(log_dir='logs/{}'.format(self.model_name), batch_size=self.batch_size, write_images=True),\n",
    "                ModelCheckpoint(filepath=self.model_name + '.h5', save_best_only=True)]\n",
    "        model.fit(train_X, \n",
    "                train_y,\n",
    "                validation_data=(test_X, test_y),\n",
    "                epochs=10,\n",
    "                callbacks=callbacks,\n",
    "                batch_size=32)\n",
    "    \n",
    "    def _Universalhttp://localhost:8888/notebooks/notebooks/Financial%20Sentiment.ipynb#Embedding(self, x):\n",
    "        return embed(tf.squeeze(tf.cast(x, tf.string)), signature=\"default\", as_dict=True)[\"default\"]"
   ]
  },
  {
   "cell_type": "code",
   "execution_count": 14,
   "metadata": {
    "collapsed": false
   },
   "outputs": [
    {
     "data": {
      "text/html": [
       "<div>\n",
       "<style scoped>\n",
       "    .dataframe tbody tr th:only-of-type {\n",
       "        vertical-align: middle;\n",
       "    }\n",
       "\n",
       "    .dataframe tbody tr th {\n",
       "        vertical-align: top;\n",
       "    }\n",
       "\n",
       "    .dataframe thead th {\n",
       "        text-align: right;\n",
       "    }\n",
       "</style>\n",
       "<table border=\"1\" class=\"dataframe\">\n",
       "  <thead>\n",
       "    <tr style=\"text-align: right;\">\n",
       "      <th></th>\n",
       "      <th>0</th>\n",
       "      <th>1</th>\n",
       "    </tr>\n",
       "  </thead>\n",
       "  <tbody>\n",
       "    <tr>\n",
       "      <th>0</th>\n",
       "      <td>MargaretsBelly Amy Schumer is the stereotypica...</td>\n",
       "      <td>-1</td>\n",
       "    </tr>\n",
       "    <tr>\n",
       "      <th>1</th>\n",
       "      <td>danipitter I mean I get the hype around JLaw I...</td>\n",
       "      <td>-1</td>\n",
       "    </tr>\n",
       "    <tr>\n",
       "      <th>2</th>\n",
       "      <td>Amy Schumer at the GQmenoftheyear2015 party in...</td>\n",
       "      <td>-1</td>\n",
       "    </tr>\n",
       "    <tr>\n",
       "      <th>3</th>\n",
       "      <td>Amy Schumer may have brought us Trainwreck but...</td>\n",
       "      <td>-1</td>\n",
       "    </tr>\n",
       "    <tr>\n",
       "      <th>4</th>\n",
       "      <td>I just think that sports are stupid ampanyone ...</td>\n",
       "      <td>-1</td>\n",
       "    </tr>\n",
       "  </tbody>\n",
       "</table>\n",
       "</div>"
      ],
      "text/plain": [
       "                                                   0  1\n",
       "0  MargaretsBelly Amy Schumer is the stereotypica... -1\n",
       "1  danipitter I mean I get the hype around JLaw I... -1\n",
       "2  Amy Schumer at the GQmenoftheyear2015 party in... -1\n",
       "3  Amy Schumer may have brought us Trainwreck but... -1\n",
       "4  I just think that sports are stupid ampanyone ... -1"
      ]
     },
     "execution_count": 14,
     "metadata": {},
     "output_type": "execute_result"
    }
   ],
   "source": [
    "data = pd.read_csv('../data/testv2.csv', header=None)\n",
    "data.head()"
   ]
  },
  {
   "cell_type": "code",
   "execution_count": 15,
   "metadata": {
    "collapsed": false
   },
   "outputs": [
    {
     "data": {
      "text/plain": [
       "Counter({-1.0: 11695, 0.0: 20162, 1.0: 8212})"
      ]
     },
     "execution_count": 15,
     "metadata": {},
     "output_type": "execute_result"
    }
   ],
   "source": [
    "from collections import Counter \n",
    "c = Counter()\n",
    "for i in data.iloc[:,1].tolist():\n",
    "    c[float(i)] += 1\n",
    "c"
   ]
  },
  {
   "cell_type": "code",
   "execution_count": 16,
   "metadata": {
    "collapsed": false
   },
   "outputs": [],
   "source": [
    "train_X = data[0].tolist()\n",
    "train_X = np.array(train_X, dtype=object)[:, np.newaxis]\n",
    "\n",
    "labels =  data[1].tolist()\n",
    "train_y = np.zeros(shape=(len(labels),3))\n",
    "for index, val in enumerate(labels):\n",
    "    if val == -1:\n",
    "        train_y[index, 0] = 1\n",
    "    elif val == 0:\n",
    "        train_y[index, 1] = 1\n",
    "    else:\n",
    "        train_y[index, 2] = 1"
   ]
  },
  {
   "cell_type": "code",
   "execution_count": 17,
   "metadata": {
    "collapsed": true
   },
   "outputs": [],
   "source": [
    "test = pd.read_csv('../data/trainv2.csv', header=None)\n",
    "test_X = test[0].tolist()\n",
    "test_X = np.array(test_X, dtype=object)[:, np.newaxis]\n",
    "test_y =  test[1].tolist()\n",
    "\n",
    "labels =  test[1].tolist()\n",
    "test_y = np.zeros(shape=(len(labels),3))\n",
    "for index, val in enumerate(labels):\n",
    "    if val == -1:\n",
    "        test_y[index, 0] = 1\n",
    "    elif val == 0:\n",
    "        test_y[index, 1] = 1\n",
    "    else:\n",
    "        test_y[index, 2] = 1"
   ]
  },
  {
   "cell_type": "code",
   "execution_count": 18,
   "metadata": {
    "collapsed": false
   },
   "outputs": [
    {
     "data": {
      "text/plain": [
       "(40069, 1)"
      ]
     },
     "execution_count": 18,
     "metadata": {},
     "output_type": "execute_result"
    }
   ],
   "source": [
    "train_X.shape"
   ]
  },
  {
   "cell_type": "code",
   "execution_count": 19,
   "metadata": {
    "collapsed": false
   },
   "outputs": [],
   "source": [
    "os.environ['TF_CPP_MIN_LOG_LEVEL'] = '3'"
   ]
  },
  {
   "cell_type": "code",
   "execution_count": 20,
   "metadata": {
    "collapsed": false
   },
   "outputs": [
    {
     "name": "stdout",
     "output_type": "stream",
     "text": [
      "DEBUG:tensorflow:Initialize variable module_2/Embeddings_en/sharded_0:0 from checkpoint b'/var/folders/rh/hnmbdhn55f7833nysls18h4c0000gn/T/tfhub_modules/1fb57c3ffe1a38479233ee9853ddd7a8ac8a8c47/variables/variables' with Embeddings_en/sharded_0\n",
      "DEBUG:tensorflow:Initialize variable module_2/Embeddings_en/sharded_1:0 from checkpoint b'/var/folders/rh/hnmbdhn55f7833nysls18h4c0000gn/T/tfhub_modules/1fb57c3ffe1a38479233ee9853ddd7a8ac8a8c47/variables/variables' with Embeddings_en/sharded_1\n",
      "DEBUG:tensorflow:Initialize variable module_2/Embeddings_en/sharded_10:0 from checkpoint b'/var/folders/rh/hnmbdhn55f7833nysls18h4c0000gn/T/tfhub_modules/1fb57c3ffe1a38479233ee9853ddd7a8ac8a8c47/variables/variables' with Embeddings_en/sharded_10\n",
      "DEBUG:tensorflow:Initialize variable module_2/Embeddings_en/sharded_11:0 from checkpoint b'/var/folders/rh/hnmbdhn55f7833nysls18h4c0000gn/T/tfhub_modules/1fb57c3ffe1a38479233ee9853ddd7a8ac8a8c47/variables/variables' with Embeddings_en/sharded_11\n",
      "DEBUG:tensorflow:Initialize variable module_2/Embeddings_en/sharded_12:0 from checkpoint b'/var/folders/rh/hnmbdhn55f7833nysls18h4c0000gn/T/tfhub_modules/1fb57c3ffe1a38479233ee9853ddd7a8ac8a8c47/variables/variables' with Embeddings_en/sharded_12\n",
      "DEBUG:tensorflow:Initialize variable module_2/Embeddings_en/sharded_13:0 from checkpoint b'/var/folders/rh/hnmbdhn55f7833nysls18h4c0000gn/T/tfhub_modules/1fb57c3ffe1a38479233ee9853ddd7a8ac8a8c47/variables/variables' with Embeddings_en/sharded_13\n",
      "DEBUG:tensorflow:Initialize variable module_2/Embeddings_en/sharded_14:0 from checkpoint b'/var/folders/rh/hnmbdhn55f7833nysls18h4c0000gn/T/tfhub_modules/1fb57c3ffe1a38479233ee9853ddd7a8ac8a8c47/variables/variables' with Embeddings_en/sharded_14\n",
      "DEBUG:tensorflow:Initialize variable module_2/Embeddings_en/sharded_15:0 from checkpoint b'/var/folders/rh/hnmbdhn55f7833nysls18h4c0000gn/T/tfhub_modules/1fb57c3ffe1a38479233ee9853ddd7a8ac8a8c47/variables/variables' with Embeddings_en/sharded_15\n",
      "DEBUG:tensorflow:Initialize variable module_2/Embeddings_en/sharded_16:0 from checkpoint b'/var/folders/rh/hnmbdhn55f7833nysls18h4c0000gn/T/tfhub_modules/1fb57c3ffe1a38479233ee9853ddd7a8ac8a8c47/variables/variables' with Embeddings_en/sharded_16\n",
      "DEBUG:tensorflow:Initialize variable module_2/Embeddings_en/sharded_2:0 from checkpoint b'/var/folders/rh/hnmbdhn55f7833nysls18h4c0000gn/T/tfhub_modules/1fb57c3ffe1a38479233ee9853ddd7a8ac8a8c47/variables/variables' with Embeddings_en/sharded_2\n",
      "DEBUG:tensorflow:Initialize variable module_2/Embeddings_en/sharded_3:0 from checkpoint b'/var/folders/rh/hnmbdhn55f7833nysls18h4c0000gn/T/tfhub_modules/1fb57c3ffe1a38479233ee9853ddd7a8ac8a8c47/variables/variables' with Embeddings_en/sharded_3\n",
      "DEBUG:tensorflow:Initialize variable module_2/Embeddings_en/sharded_4:0 from checkpoint b'/var/folders/rh/hnmbdhn55f7833nysls18h4c0000gn/T/tfhub_modules/1fb57c3ffe1a38479233ee9853ddd7a8ac8a8c47/variables/variables' with Embeddings_en/sharded_4\n",
      "DEBUG:tensorflow:Initialize variable module_2/Embeddings_en/sharded_5:0 from checkpoint b'/var/folders/rh/hnmbdhn55f7833nysls18h4c0000gn/T/tfhub_modules/1fb57c3ffe1a38479233ee9853ddd7a8ac8a8c47/variables/variables' with Embeddings_en/sharded_5\n",
      "DEBUG:tensorflow:Initialize variable module_2/Embeddings_en/sharded_6:0 from checkpoint b'/var/folders/rh/hnmbdhn55f7833nysls18h4c0000gn/T/tfhub_modules/1fb57c3ffe1a38479233ee9853ddd7a8ac8a8c47/variables/variables' with Embeddings_en/sharded_6\n",
      "DEBUG:tensorflow:Initialize variable module_2/Embeddings_en/sharded_7:0 from checkpoint b'/var/folders/rh/hnmbdhn55f7833nysls18h4c0000gn/T/tfhub_modules/1fb57c3ffe1a38479233ee9853ddd7a8ac8a8c47/variables/variables' with Embeddings_en/sharded_7\n",
      "DEBUG:tensorflow:Initialize variable module_2/Embeddings_en/sharded_8:0 from checkpoint b'/var/folders/rh/hnmbdhn55f7833nysls18h4c0000gn/T/tfhub_modules/1fb57c3ffe1a38479233ee9853ddd7a8ac8a8c47/variables/variables' with Embeddings_en/sharded_8\n",
      "DEBUG:tensorflow:Initialize variable module_2/Embeddings_en/sharded_9:0 from checkpoint b'/var/folders/rh/hnmbdhn55f7833nysls18h4c0000gn/T/tfhub_modules/1fb57c3ffe1a38479233ee9853ddd7a8ac8a8c47/variables/variables' with Embeddings_en/sharded_9\n",
      "DEBUG:tensorflow:Initialize variable module_2/Encoder_en/DNN/ResidualHidden_0/weights:0 from checkpoint b'/var/folders/rh/hnmbdhn55f7833nysls18h4c0000gn/T/tfhub_modules/1fb57c3ffe1a38479233ee9853ddd7a8ac8a8c47/variables/variables' with Encoder_en/DNN/ResidualHidden_0/weights\n",
      "DEBUG:tensorflow:Initialize variable module_2/Encoder_en/DNN/ResidualHidden_1/weights:0 from checkpoint b'/var/folders/rh/hnmbdhn55f7833nysls18h4c0000gn/T/tfhub_modules/1fb57c3ffe1a38479233ee9853ddd7a8ac8a8c47/variables/variables' with Encoder_en/DNN/ResidualHidden_1/weights\n",
      "DEBUG:tensorflow:Initialize variable module_2/Encoder_en/DNN/ResidualHidden_2/weights:0 from checkpoint b'/var/folders/rh/hnmbdhn55f7833nysls18h4c0000gn/T/tfhub_modules/1fb57c3ffe1a38479233ee9853ddd7a8ac8a8c47/variables/variables' with Encoder_en/DNN/ResidualHidden_2/weights\n",
      "DEBUG:tensorflow:Initialize variable module_2/Encoder_en/DNN/ResidualHidden_3/projection:0 from checkpoint b'/var/folders/rh/hnmbdhn55f7833nysls18h4c0000gn/T/tfhub_modules/1fb57c3ffe1a38479233ee9853ddd7a8ac8a8c47/variables/variables' with Encoder_en/DNN/ResidualHidden_3/projection\n",
      "DEBUG:tensorflow:Initialize variable module_2/Encoder_en/DNN/ResidualHidden_3/weights:0 from checkpoint b'/var/folders/rh/hnmbdhn55f7833nysls18h4c0000gn/T/tfhub_modules/1fb57c3ffe1a38479233ee9853ddd7a8ac8a8c47/variables/variables' with Encoder_en/DNN/ResidualHidden_3/weights\n",
      "DEBUG:tensorflow:Initialize variable module_2/SHARED_RANK_ANSWER/response_encoder_0/tanh_layer_0/bias:0 from checkpoint b'/var/folders/rh/hnmbdhn55f7833nysls18h4c0000gn/T/tfhub_modules/1fb57c3ffe1a38479233ee9853ddd7a8ac8a8c47/variables/variables' with SHARED_RANK_ANSWER/response_encoder_0/tanh_layer_0/bias\n",
      "DEBUG:tensorflow:Initialize variable module_2/SHARED_RANK_ANSWER/response_encoder_0/tanh_layer_0/weights:0 from checkpoint b'/var/folders/rh/hnmbdhn55f7833nysls18h4c0000gn/T/tfhub_modules/1fb57c3ffe1a38479233ee9853ddd7a8ac8a8c47/variables/variables' with SHARED_RANK_ANSWER/response_encoder_0/tanh_layer_0/weights\n",
      "DEBUG:tensorflow:Initialize variable module_2/SHARED_RANK_ANSWER/response_encoder_0/tanh_layer_1/bias:0 from checkpoint b'/var/folders/rh/hnmbdhn55f7833nysls18h4c0000gn/T/tfhub_modules/1fb57c3ffe1a38479233ee9853ddd7a8ac8a8c47/variables/variables' with SHARED_RANK_ANSWER/response_encoder_0/tanh_layer_1/bias\n",
      "DEBUG:tensorflow:Initialize variable module_2/SHARED_RANK_ANSWER/response_encoder_0/tanh_layer_1/weights:0 from checkpoint b'/var/folders/rh/hnmbdhn55f7833nysls18h4c0000gn/T/tfhub_modules/1fb57c3ffe1a38479233ee9853ddd7a8ac8a8c47/variables/variables' with SHARED_RANK_ANSWER/response_encoder_0/tanh_layer_1/weights\n",
      "DEBUG:tensorflow:Initialize variable module_2/SHARED_RANK_ANSWER/response_encoder_0/tanh_layer_2/bias:0 from checkpoint b'/var/folders/rh/hnmbdhn55f7833nysls18h4c0000gn/T/tfhub_modules/1fb57c3ffe1a38479233ee9853ddd7a8ac8a8c47/variables/variables' with SHARED_RANK_ANSWER/response_encoder_0/tanh_layer_2/bias\n",
      "DEBUG:tensorflow:Initialize variable module_2/SHARED_RANK_ANSWER/response_encoder_0/tanh_layer_2/weights:0 from checkpoint b'/var/folders/rh/hnmbdhn55f7833nysls18h4c0000gn/T/tfhub_modules/1fb57c3ffe1a38479233ee9853ddd7a8ac8a8c47/variables/variables' with SHARED_RANK_ANSWER/response_encoder_0/tanh_layer_2/weights\n",
      "DEBUG:tensorflow:Initialize variable module_2/SNLI/Classifier/LinearLayer/bias:0 from checkpoint b'/var/folders/rh/hnmbdhn55f7833nysls18h4c0000gn/T/tfhub_modules/1fb57c3ffe1a38479233ee9853ddd7a8ac8a8c47/variables/variables' with SNLI/Classifier/LinearLayer/bias\n",
      "DEBUG:tensorflow:Initialize variable module_2/SNLI/Classifier/LinearLayer/weights:0 from checkpoint b'/var/folders/rh/hnmbdhn55f7833nysls18h4c0000gn/T/tfhub_modules/1fb57c3ffe1a38479233ee9853ddd7a8ac8a8c47/variables/variables' with SNLI/Classifier/LinearLayer/weights\n",
      "DEBUG:tensorflow:Initialize variable module_2/SNLI/Classifier/tanh_layer_0/bias:0 from checkpoint b'/var/folders/rh/hnmbdhn55f7833nysls18h4c0000gn/T/tfhub_modules/1fb57c3ffe1a38479233ee9853ddd7a8ac8a8c47/variables/variables' with SNLI/Classifier/tanh_layer_0/bias\n",
      "DEBUG:tensorflow:Initialize variable module_2/SNLI/Classifier/tanh_layer_0/weights:0 from checkpoint b'/var/folders/rh/hnmbdhn55f7833nysls18h4c0000gn/T/tfhub_modules/1fb57c3ffe1a38479233ee9853ddd7a8ac8a8c47/variables/variables' with SNLI/Classifier/tanh_layer_0/weights\n",
      "DEBUG:tensorflow:Initialize variable module_2/global_step:0 from checkpoint b'/var/folders/rh/hnmbdhn55f7833nysls18h4c0000gn/T/tfhub_modules/1fb57c3ffe1a38479233ee9853ddd7a8ac8a8c47/variables/variables' with global_step\n",
      "INFO:tensorflow:Saver not created because there are no variables in the graph to restore\n"
     ]
    }
   ],
   "source": [
    "tf.logging.set_verbosity(2)\n",
    "classifier = USEClassifier(epochs=10, batch_size=10, embed_size=512, model_name='test3', embedding=None)"
   ]
  },
  {
   "cell_type": "code",
   "execution_count": 22,
   "metadata": {
    "collapsed": false
   },
   "outputs": [
    {
     "name": "stdout",
     "output_type": "stream",
     "text": [
      "Level 2:tensorflow:  _AggregatedGrads 2 x (?, 3) using add_n\n",
      "Level 2:tensorflow:  _AggregatedGrads 2 x (256, 3) using add_n\n",
      "Level 2:tensorflow:  _AggregatedGrads 2 x (?, 256) using add_n\n",
      "Level 2:tensorflow:  _AggregatedGrads 2 x (256,) using add_n\n",
      "Level 2:tensorflow:  _AggregatedGrads 2 x (256,) using add_n\n",
      "Level 2:tensorflow:  _AggregatedGrads 2 x (256,) using add_n\n",
      "Level 2:tensorflow:  _AggregatedGrads 2 x (256,) using add_n\n",
      "Level 2:tensorflow:  _AggregatedGrads 4 x (?, 256) using add_n\n",
      "Level 2:tensorflow:  _AggregatedGrads 2 x (512, 256) using add_n\n",
      "Train on 40069 samples, validate on 14890 samples\n",
      "Epoch 1/10\n"
     ]
    },
    {
     "ename": "FailedPreconditionError",
     "evalue": "Table not initialized.\n\t [[{{node lambda_2/module_2_apply_default/string_to_index_Lookup/hash_table_Lookup}} = LookupTableFindV2[Tin=DT_STRING, Tout=DT_INT64, _device=\"/job:localhost/replica:0/task:0/device:CPU:0\"](module_2/string_to_index/hash_table, lambda_2/module_2_apply_default/compound_bigrams/boolean_mask/Gather, lambda_2/module_2_apply_default/string_to_index/hash_table/Const)]]",
     "output_type": "error",
     "traceback": [
      "\u001b[0;31m---------------------------------------------------------------------------\u001b[0m",
      "\u001b[0;31mFailedPreconditionError\u001b[0m                   Traceback (most recent call last)",
      "\u001b[0;32m<ipython-input-22-983c740ccb54>\u001b[0m in \u001b[0;36m<module>\u001b[0;34m()\u001b[0m\n\u001b[1;32m      1\u001b[0m \u001b[0;31m# classifier.predict(train_X)\u001b[0m\u001b[0;34m\u001b[0m\u001b[0;34m\u001b[0m\u001b[0m\n\u001b[0;32m----> 2\u001b[0;31m \u001b[0mclassifier\u001b[0m\u001b[0;34m.\u001b[0m\u001b[0mtrain\u001b[0m\u001b[0;34m(\u001b[0m\u001b[0mtrain_X\u001b[0m\u001b[0;34m=\u001b[0m\u001b[0mtrain_X\u001b[0m\u001b[0;34m,\u001b[0m \u001b[0mtrain_y\u001b[0m\u001b[0;34m=\u001b[0m\u001b[0mtrain_y\u001b[0m\u001b[0;34m,\u001b[0m \u001b[0mtest_X\u001b[0m\u001b[0;34m=\u001b[0m\u001b[0mtest_X\u001b[0m\u001b[0;34m,\u001b[0m \u001b[0mtest_y\u001b[0m\u001b[0;34m=\u001b[0m\u001b[0mtest_y\u001b[0m\u001b[0;34m)\u001b[0m\u001b[0;34m\u001b[0m\u001b[0m\n\u001b[0m",
      "\u001b[0;32m/Users/alexchan/Documents/projects/TradeWhisperer/notebooks/model.py\u001b[0m in \u001b[0;36mtrain\u001b[0;34m(self, train_X, train_y, test_X, test_y)\u001b[0m\n\u001b[1;32m     51\u001b[0m \u001b[0;34m\u001b[0m\u001b[0m\n\u001b[1;32m     52\u001b[0m             self.model.fit(train_X,\n\u001b[0;32m---> 53\u001b[0;31m                 \u001b[0mtrain_y\u001b[0m\u001b[0;34m,\u001b[0m\u001b[0;34m\u001b[0m\u001b[0m\n\u001b[0m\u001b[1;32m     54\u001b[0m                 \u001b[0mvalidation_data\u001b[0m\u001b[0;34m=\u001b[0m\u001b[0;34m(\u001b[0m\u001b[0mtest_X\u001b[0m\u001b[0;34m,\u001b[0m \u001b[0mtest_y\u001b[0m\u001b[0;34m)\u001b[0m\u001b[0;34m,\u001b[0m\u001b[0;34m\u001b[0m\u001b[0m\n\u001b[1;32m     55\u001b[0m                 \u001b[0mepochs\u001b[0m\u001b[0;34m=\u001b[0m\u001b[0mself\u001b[0m\u001b[0;34m.\u001b[0m\u001b[0mepochs\u001b[0m\u001b[0;34m,\u001b[0m\u001b[0;34m\u001b[0m\u001b[0m\n",
      "\u001b[0;32m/Users/alexchan/anaconda3/envs/MLKart/lib/python3.6/site-packages/keras/engine/training.py\u001b[0m in \u001b[0;36mfit\u001b[0;34m(self, x, y, batch_size, epochs, verbose, callbacks, validation_split, validation_data, shuffle, class_weight, sample_weight, initial_epoch, steps_per_epoch, validation_steps, **kwargs)\u001b[0m\n\u001b[1;32m   1037\u001b[0m                                         \u001b[0minitial_epoch\u001b[0m\u001b[0;34m=\u001b[0m\u001b[0minitial_epoch\u001b[0m\u001b[0;34m,\u001b[0m\u001b[0;34m\u001b[0m\u001b[0m\n\u001b[1;32m   1038\u001b[0m                                         \u001b[0msteps_per_epoch\u001b[0m\u001b[0;34m=\u001b[0m\u001b[0msteps_per_epoch\u001b[0m\u001b[0;34m,\u001b[0m\u001b[0;34m\u001b[0m\u001b[0m\n\u001b[0;32m-> 1039\u001b[0;31m                                         validation_steps=validation_steps)\n\u001b[0m\u001b[1;32m   1040\u001b[0m \u001b[0;34m\u001b[0m\u001b[0m\n\u001b[1;32m   1041\u001b[0m     def evaluate(self, x=None, y=None,\n",
      "\u001b[0;32m/Users/alexchan/anaconda3/envs/MLKart/lib/python3.6/site-packages/keras/engine/training_arrays.py\u001b[0m in \u001b[0;36mfit_loop\u001b[0;34m(model, f, ins, out_labels, batch_size, epochs, verbose, callbacks, val_f, val_ins, shuffle, callback_metrics, initial_epoch, steps_per_epoch, validation_steps)\u001b[0m\n\u001b[1;32m    197\u001b[0m                     \u001b[0mins_batch\u001b[0m\u001b[0;34m[\u001b[0m\u001b[0mi\u001b[0m\u001b[0;34m]\u001b[0m \u001b[0;34m=\u001b[0m \u001b[0mins_batch\u001b[0m\u001b[0;34m[\u001b[0m\u001b[0mi\u001b[0m\u001b[0;34m]\u001b[0m\u001b[0;34m.\u001b[0m\u001b[0mtoarray\u001b[0m\u001b[0;34m(\u001b[0m\u001b[0;34m)\u001b[0m\u001b[0;34m\u001b[0m\u001b[0m\n\u001b[1;32m    198\u001b[0m \u001b[0;34m\u001b[0m\u001b[0m\n\u001b[0;32m--> 199\u001b[0;31m                 \u001b[0mouts\u001b[0m \u001b[0;34m=\u001b[0m \u001b[0mf\u001b[0m\u001b[0;34m(\u001b[0m\u001b[0mins_batch\u001b[0m\u001b[0;34m)\u001b[0m\u001b[0;34m\u001b[0m\u001b[0m\n\u001b[0m\u001b[1;32m    200\u001b[0m                 \u001b[0mouts\u001b[0m \u001b[0;34m=\u001b[0m \u001b[0mto_list\u001b[0m\u001b[0;34m(\u001b[0m\u001b[0mouts\u001b[0m\u001b[0;34m)\u001b[0m\u001b[0;34m\u001b[0m\u001b[0m\n\u001b[1;32m    201\u001b[0m                 \u001b[0;32mfor\u001b[0m \u001b[0ml\u001b[0m\u001b[0;34m,\u001b[0m \u001b[0mo\u001b[0m \u001b[0;32min\u001b[0m \u001b[0mzip\u001b[0m\u001b[0;34m(\u001b[0m\u001b[0mout_labels\u001b[0m\u001b[0;34m,\u001b[0m \u001b[0mouts\u001b[0m\u001b[0;34m)\u001b[0m\u001b[0;34m:\u001b[0m\u001b[0;34m\u001b[0m\u001b[0m\n",
      "\u001b[0;32m/Users/alexchan/anaconda3/envs/MLKart/lib/python3.6/site-packages/keras/backend/tensorflow_backend.py\u001b[0m in \u001b[0;36m__call__\u001b[0;34m(self, inputs)\u001b[0m\n\u001b[1;32m   2713\u001b[0m                 \u001b[0;32mreturn\u001b[0m \u001b[0mself\u001b[0m\u001b[0;34m.\u001b[0m\u001b[0m_legacy_call\u001b[0m\u001b[0;34m(\u001b[0m\u001b[0minputs\u001b[0m\u001b[0;34m)\u001b[0m\u001b[0;34m\u001b[0m\u001b[0m\n\u001b[1;32m   2714\u001b[0m \u001b[0;34m\u001b[0m\u001b[0m\n\u001b[0;32m-> 2715\u001b[0;31m             \u001b[0;32mreturn\u001b[0m \u001b[0mself\u001b[0m\u001b[0;34m.\u001b[0m\u001b[0m_call\u001b[0m\u001b[0;34m(\u001b[0m\u001b[0minputs\u001b[0m\u001b[0;34m)\u001b[0m\u001b[0;34m\u001b[0m\u001b[0m\n\u001b[0m\u001b[1;32m   2716\u001b[0m         \u001b[0;32melse\u001b[0m\u001b[0;34m:\u001b[0m\u001b[0;34m\u001b[0m\u001b[0m\n\u001b[1;32m   2717\u001b[0m             \u001b[0;32mif\u001b[0m \u001b[0mpy_any\u001b[0m\u001b[0;34m(\u001b[0m\u001b[0mis_tensor\u001b[0m\u001b[0;34m(\u001b[0m\u001b[0mx\u001b[0m\u001b[0;34m)\u001b[0m \u001b[0;32mfor\u001b[0m \u001b[0mx\u001b[0m \u001b[0;32min\u001b[0m \u001b[0minputs\u001b[0m\u001b[0;34m)\u001b[0m\u001b[0;34m:\u001b[0m\u001b[0;34m\u001b[0m\u001b[0m\n",
      "\u001b[0;32m/Users/alexchan/anaconda3/envs/MLKart/lib/python3.6/site-packages/keras/backend/tensorflow_backend.py\u001b[0m in \u001b[0;36m_call\u001b[0;34m(self, inputs)\u001b[0m\n\u001b[1;32m   2673\u001b[0m             \u001b[0mfetched\u001b[0m \u001b[0;34m=\u001b[0m \u001b[0mself\u001b[0m\u001b[0;34m.\u001b[0m\u001b[0m_callable_fn\u001b[0m\u001b[0;34m(\u001b[0m\u001b[0;34m*\u001b[0m\u001b[0marray_vals\u001b[0m\u001b[0;34m,\u001b[0m \u001b[0mrun_metadata\u001b[0m\u001b[0;34m=\u001b[0m\u001b[0mself\u001b[0m\u001b[0;34m.\u001b[0m\u001b[0mrun_metadata\u001b[0m\u001b[0;34m)\u001b[0m\u001b[0;34m\u001b[0m\u001b[0m\n\u001b[1;32m   2674\u001b[0m         \u001b[0;32melse\u001b[0m\u001b[0;34m:\u001b[0m\u001b[0;34m\u001b[0m\u001b[0m\n\u001b[0;32m-> 2675\u001b[0;31m             \u001b[0mfetched\u001b[0m \u001b[0;34m=\u001b[0m \u001b[0mself\u001b[0m\u001b[0;34m.\u001b[0m\u001b[0m_callable_fn\u001b[0m\u001b[0;34m(\u001b[0m\u001b[0;34m*\u001b[0m\u001b[0marray_vals\u001b[0m\u001b[0;34m)\u001b[0m\u001b[0;34m\u001b[0m\u001b[0m\n\u001b[0m\u001b[1;32m   2676\u001b[0m         \u001b[0;32mreturn\u001b[0m \u001b[0mfetched\u001b[0m\u001b[0;34m[\u001b[0m\u001b[0;34m:\u001b[0m\u001b[0mlen\u001b[0m\u001b[0;34m(\u001b[0m\u001b[0mself\u001b[0m\u001b[0;34m.\u001b[0m\u001b[0moutputs\u001b[0m\u001b[0;34m)\u001b[0m\u001b[0;34m]\u001b[0m\u001b[0;34m\u001b[0m\u001b[0m\n\u001b[1;32m   2677\u001b[0m \u001b[0;34m\u001b[0m\u001b[0m\n",
      "\u001b[0;32m/Users/alexchan/anaconda3/envs/MLKart/lib/python3.6/site-packages/tensorflow/python/client/session.py\u001b[0m in \u001b[0;36m__call__\u001b[0;34m(self, *args, **kwargs)\u001b[0m\n\u001b[1;32m   1437\u001b[0m           ret = tf_session.TF_SessionRunCallable(\n\u001b[1;32m   1438\u001b[0m               \u001b[0mself\u001b[0m\u001b[0;34m.\u001b[0m\u001b[0m_session\u001b[0m\u001b[0;34m.\u001b[0m\u001b[0m_session\u001b[0m\u001b[0;34m,\u001b[0m \u001b[0mself\u001b[0m\u001b[0;34m.\u001b[0m\u001b[0m_handle\u001b[0m\u001b[0;34m,\u001b[0m \u001b[0margs\u001b[0m\u001b[0;34m,\u001b[0m \u001b[0mstatus\u001b[0m\u001b[0;34m,\u001b[0m\u001b[0;34m\u001b[0m\u001b[0m\n\u001b[0;32m-> 1439\u001b[0;31m               run_metadata_ptr)\n\u001b[0m\u001b[1;32m   1440\u001b[0m         \u001b[0;32mif\u001b[0m \u001b[0mrun_metadata\u001b[0m\u001b[0;34m:\u001b[0m\u001b[0;34m\u001b[0m\u001b[0m\n\u001b[1;32m   1441\u001b[0m           \u001b[0mproto_data\u001b[0m \u001b[0;34m=\u001b[0m \u001b[0mtf_session\u001b[0m\u001b[0;34m.\u001b[0m\u001b[0mTF_GetBuffer\u001b[0m\u001b[0;34m(\u001b[0m\u001b[0mrun_metadata_ptr\u001b[0m\u001b[0;34m)\u001b[0m\u001b[0;34m\u001b[0m\u001b[0m\n",
      "\u001b[0;32m/Users/alexchan/anaconda3/envs/MLKart/lib/python3.6/site-packages/tensorflow/python/framework/errors_impl.py\u001b[0m in \u001b[0;36m__exit__\u001b[0;34m(self, type_arg, value_arg, traceback_arg)\u001b[0m\n\u001b[1;32m    526\u001b[0m             \u001b[0;32mNone\u001b[0m\u001b[0;34m,\u001b[0m \u001b[0;32mNone\u001b[0m\u001b[0;34m,\u001b[0m\u001b[0;34m\u001b[0m\u001b[0m\n\u001b[1;32m    527\u001b[0m             \u001b[0mcompat\u001b[0m\u001b[0;34m.\u001b[0m\u001b[0mas_text\u001b[0m\u001b[0;34m(\u001b[0m\u001b[0mc_api\u001b[0m\u001b[0;34m.\u001b[0m\u001b[0mTF_Message\u001b[0m\u001b[0;34m(\u001b[0m\u001b[0mself\u001b[0m\u001b[0;34m.\u001b[0m\u001b[0mstatus\u001b[0m\u001b[0;34m.\u001b[0m\u001b[0mstatus\u001b[0m\u001b[0;34m)\u001b[0m\u001b[0;34m)\u001b[0m\u001b[0;34m,\u001b[0m\u001b[0;34m\u001b[0m\u001b[0m\n\u001b[0;32m--> 528\u001b[0;31m             c_api.TF_GetCode(self.status.status))\n\u001b[0m\u001b[1;32m    529\u001b[0m     \u001b[0;31m# Delete the underlying status object from memory otherwise it stays alive\u001b[0m\u001b[0;34m\u001b[0m\u001b[0;34m\u001b[0m\u001b[0m\n\u001b[1;32m    530\u001b[0m     \u001b[0;31m# as there is a reference to status from this from the traceback due to\u001b[0m\u001b[0;34m\u001b[0m\u001b[0;34m\u001b[0m\u001b[0m\n",
      "\u001b[0;31mFailedPreconditionError\u001b[0m: Table not initialized.\n\t [[{{node lambda_2/module_2_apply_default/string_to_index_Lookup/hash_table_Lookup}} = LookupTableFindV2[Tin=DT_STRING, Tout=DT_INT64, _device=\"/job:localhost/replica:0/task:0/device:CPU:0\"](module_2/string_to_index/hash_table, lambda_2/module_2_apply_default/compound_bigrams/boolean_mask/Gather, lambda_2/module_2_apply_default/string_to_index/hash_table/Const)]]"
     ]
    }
   ],
   "source": [
    "# classifier.predict(train_X)\n",
    "classifier.train(train_X=train_X, train_y=train_y, test_X=test_X, test_y=test_y)"
   ]
  },
  {
   "cell_type": "code",
   "execution_count": null,
   "metadata": {
    "collapsed": true
   },
   "outputs": [],
   "source": []
  },
  {
   "cell_type": "code",
   "execution_count": null,
   "metadata": {
    "collapsed": false
   },
   "outputs": [],
   "source": [
    "with tf.Session() as session:\n",
    "    K.set_session(session)\n",
    "    session.run(tf.global_variables_initializer())\n",
    "    session.run(tf.tables_initializer())\n",
    "#     callbacks = [EarlyStopping(monitor='val_loss', patience=2),\n",
    "#                       TensorBoard(log_dir='logs/{}'.format(self.model_name), batch_size=self.batch_size, write_images=True),\n",
    "#                       ModelCheckpoint(filepath='test.h5', save_best_only=True)]\n",
    "    model.fit(train_X, \n",
    "            train_y,\n",
    "            validation_data=(test_X, test_y),\n",
    "            epochs=10,\n",
    "            batch_size=32)\n",
    "    model.save_weights('./model.h5')"
   ]
  },
  {
   "cell_type": "code",
   "execution_count": null,
   "metadata": {
    "collapsed": false,
    "scrolled": true
   },
   "outputs": [],
   "source": [
    "model.predict(np.array(['this stock is tanking really bad in the bear market']))"
   ]
  },
  {
   "cell_type": "code",
   "execution_count": null,
   "metadata": {
    "collapsed": true
   },
   "outputs": [],
   "source": [
    "from keras.models import load_model"
   ]
  },
  {
   "cell_type": "code",
   "execution_count": null,
   "metadata": {
    "collapsed": true
   },
   "outputs": [],
   "source": [
    "trained = model.load_weights('model.h5')"
   ]
  },
  {
   "cell_type": "code",
   "execution_count": null,
   "metadata": {
    "collapsed": false
   },
   "outputs": [],
   "source": [
    "with tf.Session() as sess:\n",
    "    sess.run(tf.local_variables_initializer())\n",
    "    model.predict(np.array(['fuck', 'shit', 'bitch']))"
   ]
  },
  {
   "cell_type": "code",
   "execution_count": null,
   "metadata": {
    "collapsed": true
   },
   "outputs": [],
   "source": []
  }
 ],
 "metadata": {
  "anaconda-cloud": {},
  "kernelspec": {
   "display_name": "Python [MLKart]",
   "language": "python",
   "name": "Python [MLKart]"
  },
  "language_info": {
   "codemirror_mode": {
    "name": "ipython",
    "version": 3
   },
   "file_extension": ".py",
   "mimetype": "text/x-python",
   "name": "python",
   "nbconvert_exporter": "python",
   "pygments_lexer": "ipython3",
   "version": "3.6.1"
  }
 },
 "nbformat": 4,
 "nbformat_minor": 2
}
